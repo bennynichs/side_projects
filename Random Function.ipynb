{
 "cells": [
  {
   "cell_type": "markdown",
   "metadata": {},
   "source": [
    "# Roll N fair six-sided dice.\n",
    "\n",
    "The sum of the values is M. We wish to know about the product of the faces.\n",
    "\n",
    "If N = 8 and M = 24, what is the value of the product."
   ]
  },
  {
   "cell_type": "code",
   "execution_count": 14,
   "metadata": {
    "collapsed": false
   },
   "outputs": [],
   "source": [
    "import random\n",
    "import numpy as np"
   ]
  },
  {
   "cell_type": "code",
   "execution_count": null,
   "metadata": {
    "collapsed": false
   },
   "outputs": [],
   "source": [
    "#create a dictionary with the key as the dice roll and the value as a tuple of boundary ranges for that roll\n",
    "    #{1:(0,1), 2:(1,2),...}\n",
    "dice_range = {x+1: (x,x+1) for x in range(6)}"
   ]
  },
  {
   "cell_type": "code",
   "execution_count": null,
   "metadata": {
    "collapsed": false,
    "scrolled": true
   },
   "outputs": [],
   "source": [
    "#set the number of sides on the di\n",
    "dice_sides = 6\n",
    "#set the number of trials in order to generate all possible combinations, (based on testing == 1 million trials)\n",
    "trials = 100000\n",
    "trial_vals = []\n",
    "\n",
    "#define the number of rolls per trial\n",
    "rolls = 50\n",
    "#define the required sum of roll values\n",
    "m = 150\n",
    "\n",
    "#loop through the trials and append the intermediate results to the trial_vals list\n",
    "print('Number of Rolls per Trial = ' + str(rolls))\n",
    "\n",
    "for trial in range(trials):\n",
    "    roll_vals = [random.randint(1,dice_sides) for i in range(rolls)]\n",
    "    trial_vals.append(roll_vals)\n",
    "\n",
    "sorted_trial_vals = list(map(lambda x: sorted(x), trial_vals))\n",
    "\n",
    "print('Number of Trials = '+ str(len(sorted_trial_vals)))\n",
    "\n",
    "unique_trial_vals = reduce(lambda x,y: x+[y] if not y in x else x, sorted_trial_vals,[])\n",
    "\n",
    "print('Number of unique combinations = '+ str(len(unique_trial_vals)))\n",
    "\n",
    "#filter the unique trial combinations for where the sum of the trial roll values equal m\n",
    "filtered_trial_vals = list(filter(lambda x: sum(x) == m, unique_trial_vals))\n",
    "\n",
    "print('Number of combinations that meet the requirement = '+ str(len(filtered_trial_vals)))\n",
    "\n",
    "#calculate the product of roll values for the filtered trials\n",
    "trial_val_products = [reduce(lambda x, y: x*y, trial) for trial in filtered_trial_vals]\n",
    "\n",
    "#Calculate expected value (i.e. average) and standard deviation\n",
    "trial_val_products_avg = float(sum(trial_val_products)) / float(len(trial_val_products))\n",
    "\n",
    "print('The Expected Value of Roll Value Products = ' + str(trial_val_products_avg))\n",
    "\n",
    "trial_val_products_std = float(np.std(trial_val_products))\n",
    "\n",
    "print('The Standard Deviation of Roll Value Products = ' + str(trial_val_products_std))"
   ]
  },
  {
   "cell_type": "markdown",
   "metadata": {},
   "source": [
    "--- For 6 Rolls\n",
    "462 true combinations\n",
    "\n",
    "10 million trials --> 462 combinations\n",
    "1 million trials --> 462 combinations\n",
    "100 thousand trials --> 462 combinations\n",
    "10 thousand trials --> 445 combinations\n",
    "1 thousand trials --> 320 combinations\n",
    "\n",
    "--- For 8 Rolls\n",
    "1,287 combinations\n",
    "\n",
    "\n",
    "10 million trials --> 1287 combinations\n",
    "1 million trials --> 1284 combinations\n",
    "\n",
    "--- For 50 Rolls\n",
    "\n",
    "10 million trials -->  combinations\n",
    "1 million trials -->  combinations\n",
    "100 thousand trials --> 54848 combinations\n",
    "10 thousand trials --> 9096 combinations\n",
    "\n",
    "\n"
   ]
  },
  {
   "cell_type": "code",
   "execution_count": null,
   "metadata": {
    "collapsed": false
   },
   "outputs": [],
   "source": [
    "#filter the unique trial combinations for where the sum of the trial roll values equal m\n",
    "filtered_trial_vals = list(filter(lambda x: sum(x) == m, unique_trial_vals))"
   ]
  },
  {
   "cell_type": "code",
   "execution_count": null,
   "metadata": {
    "collapsed": false
   },
   "outputs": [],
   "source": [
    "#calculate the product of roll values for the filtered trials\n",
    "trial_val_products = [reduce(lambda x, y: x*y, trial) for trial in filtered_trial_vals]"
   ]
  },
  {
   "cell_type": "code",
   "execution_count": null,
   "metadata": {
    "collapsed": false
   },
   "outputs": [],
   "source": [
    "trial_val_products_avg = float(sum(trial_val_products)) / float(len(trial_val_products))\n",
    "trial_val_products_std = float(np.std(trial_val_products))"
   ]
  },
  {
   "cell_type": "code",
   "execution_count": null,
   "metadata": {
    "collapsed": false
   },
   "outputs": [],
   "source": [
    "print(trial_val_products_avg)\n",
    "print(trial_val_products_std)"
   ]
  },
  {
   "cell_type": "code",
   "execution_count": null,
   "metadata": {
    "collapsed": false
   },
   "outputs": [],
   "source": [
    "filtered_trial_vals[0]\n",
    "reduce(lambda x, y: x*y, filtered_trial_vals[4])"
   ]
  },
  {
   "cell_type": "code",
   "execution_count": null,
   "metadata": {
    "collapsed": false
   },
   "outputs": [],
   "source": [
    "unique_trial_vals\n",
    "len(list(filter(lambda x: x[0] ==5, unique_trial_vals)))"
   ]
  },
  {
   "cell_type": "code",
   "execution_count": null,
   "metadata": {
    "collapsed": true
   },
   "outputs": [],
   "source": []
  },
  {
   "cell_type": "code",
   "execution_count": null,
   "metadata": {
    "collapsed": false
   },
   "outputs": [],
   "source": [
    "#This procedure determines how many combinations exist for that number of rolls for a 6 sided dice as {rolls:number of combos}\n",
    "\n",
    "roll_vals = {int(x+1): {6:1} for x in range(50)}\n",
    "\n",
    "for key in roll_vals:\n",
    "    roll_vals[key][5] = key\n",
    "    roll_vals[key][4] = round((roll_vals[key][5]) * ((key * float(1.00/2.00)) + (1.00/2.00)),0)\n",
    "    roll_vals[key][3] = round((roll_vals[key][4]) * ((key * float(1.00/3.00)) + (2.00/3.00)),0)\n",
    "    roll_vals[key][2] = round((roll_vals[key][3]) * ((key * float(1.00/4.00)) + (3.00/4.00)),0)\n",
    "    roll_vals[key][1] = round((roll_vals[key][2]) * ((key * float(1.00/5.00)) + (4.00/5.00)),0)\n",
    "\n",
    "combinations = {}\n",
    "\n",
    "for key in roll_vals:\n",
    "    sum_combos = 0\n",
    "    for sub_key in roll_vals[key]:\n",
    "        sum_combos += roll_vals[key][sub_key]\n",
    "    \n",
    "    combinations[key] = int(sum_combos)"
   ]
  },
  {
   "cell_type": "code",
   "execution_count": null,
   "metadata": {
    "collapsed": false
   },
   "outputs": [],
   "source": [
    "combinations[50]"
   ]
  },
  {
   "cell_type": "code",
   "execution_count": null,
   "metadata": {
    "collapsed": false
   },
   "outputs": [],
   "source": [
    "dice_vals = list(map(lambda x: x+1, range(dice_sides)))\n",
    "combinations = [] #[[x] for x in vals]"
   ]
  },
  {
   "cell_type": "code",
   "execution_count": null,
   "metadata": {
    "collapsed": false
   },
   "outputs": [],
   "source": [
    "for val1 in dice_vals:\n",
    "    for val2 in dice_vals:\n",
    "        for val3 in dice_vals:\n",
    "            combinations.append([val1,val2,val3])"
   ]
  },
  {
   "cell_type": "code",
   "execution_count": null,
   "metadata": {
    "collapsed": false
   },
   "outputs": [],
   "source": [
    "len(combinations)"
   ]
  },
  {
   "cell_type": "code",
   "execution_count": null,
   "metadata": {
    "collapsed": false
   },
   "outputs": [],
   "source": [
    "filtered_combinations = list(filter(lambda x: sum(x) == 24, combinations))\n",
    "products = [reduce(lambda x, y: x*y, combo) for combo in filtered_combinations]\n",
    "product_exp_val = sum(products)/len(products)\n",
    "product_std = np.std(products)"
   ]
  },
  {
   "cell_type": "code",
   "execution_count": null,
   "metadata": {
    "collapsed": false
   },
   "outputs": [],
   "source": [
    "product_exp_val"
   ]
  },
  {
   "cell_type": "code",
   "execution_count": null,
   "metadata": {
    "collapsed": false
   },
   "outputs": [],
   "source": [
    "product_std"
   ]
  },
  {
   "cell_type": "code",
   "execution_count": null,
   "metadata": {
    "collapsed": false
   },
   "outputs": [],
   "source": []
  },
  {
   "cell_type": "code",
   "execution_count": null,
   "metadata": {
    "collapsed": false
   },
   "outputs": [],
   "source": []
  },
  {
   "cell_type": "code",
   "execution_count": null,
   "metadata": {
    "collapsed": false
   },
   "outputs": [],
   "source": [
    "dice_sides = 6\n",
    "dice_vals = list(map(lambda x: x+1, range(dice_sides)))\n",
    "roll_count = 8\n",
    "m = 24\n",
    "\n",
    "rolls = [[1],[2],[3],[4],[5],[6]] #seed values\n",
    "\n",
    "while any(len(roll) < roll_count for roll in rolls) == True:\n",
    "    for i in range(len(rolls)):\n",
    "        if len(rolls[i]) < roll_count:\n",
    "            for val in dice_vals:\n",
    "                new_roll = rolls[i] + [val]\n",
    "                rolls.append(new_roll)\n",
    "            del rolls[i]\n",
    "\n",
    "filtered_rolls = list(filter(lambda x: sum(x) == m, rolls))\n",
    "products = [reduce(lambda x, y: x*y, fltrd_roll) for fltrd_roll in filtered_rolls]\n",
    "product_exp_val = sum(products)/len(products)\n",
    "product_std = np.std(products)\n",
    "\n",
    "print('expected value of product = '+str(product_exp_val))\n",
    "print('standard deviation of product = '+str(product_std))"
   ]
  },
  {
   "cell_type": "code",
   "execution_count": null,
   "metadata": {
    "collapsed": false
   },
   "outputs": [],
   "source": [
    "print('expected value of product = '+str(product_exp_val))\n",
    "print('standard deviation of product = '+str(product_std))"
   ]
  },
  {
   "cell_type": "code",
   "execution_count": null,
   "metadata": {
    "collapsed": false
   },
   "outputs": [],
   "source": [
    "list(map(lambda x: rolls.append[rolls[i] + [val]]))"
   ]
  },
  {
   "cell_type": "code",
   "execution_count": null,
   "metadata": {
    "collapsed": false,
    "scrolled": true
   },
   "outputs": [],
   "source": [
    "list1 = [1,2,3,4,5,6]\n",
    "list2 = [1,2]\n",
    "list3 = [3,4,5,6]\n",
    "\n",
    "list1.append(list2)\n",
    "list1"
   ]
  },
  {
   "cell_type": "code",
   "execution_count": 15,
   "metadata": {
    "collapsed": false
   },
   "outputs": [
    {
     "name": "stdout",
     "output_type": "stream",
     "text": [
      "Initialize Roll 1\n",
      "Complete Roll 1\n",
      "Initialize Roll 2\n",
      "Complete Roll 2\n",
      "Initialize Roll 3\n",
      "Complete Roll 3\n",
      "Here are the statistics when roll count = 3: \n",
      "- expected value of product = 5\n",
      "- standard deviation of product = 1.2\n"
     ]
    }
   ],
   "source": [
    "dice_sides = 6\n",
    "dice_vals = list(map(lambda x: x+1, range(dice_sides)))\n",
    "roll_count = 3 #not to exceed 12\n",
    "m = 6\n",
    "\n",
    "rolls = [[1],[2],[3],[4],[5],[6]] #seed values\n",
    "\n",
    "print('Initialize Roll 1')\n",
    "print('Complete Roll 1')\n",
    "\n",
    "for roll_num in range(roll_count-1):\n",
    "    print('Initialize Roll '+str(roll_num+2))\n",
    "    side_rolls = []\n",
    "    for side in map(lambda x: x+1, range(dice_sides)):\n",
    "        map(lambda y: side_rolls.append(y), map(lambda x: x+[side], rolls))\n",
    "    rolls = side_rolls\n",
    "    print('Complete Roll '+str(roll_num+2))\n",
    "\n",
    "filtered_rolls = list(filter(lambda x: sum(x) == m, rolls))\n",
    "products = [reduce(lambda x, y: x*y, fltrd_roll) for fltrd_roll in filtered_rolls]\n",
    "product_exp_val = sum(products)/len(products)\n",
    "product_std = np.std(products)\n",
    "\n",
    "\n",
    "print('Here are the statistics when roll count = '+str(roll_count)+': ')\n",
    "print('- expected value of product = '+str(product_exp_val))\n",
    "print('- standard deviation of product = '+str(product_std))"
   ]
  }
 ],
 "metadata": {
  "anaconda-cloud": {},
  "kernelspec": {
   "display_name": "Python [Root]",
   "language": "python",
   "name": "Python [Root]"
  },
  "language_info": {
   "codemirror_mode": {
    "name": "ipython",
    "version": 3
   },
   "file_extension": ".py",
   "mimetype": "text/x-python",
   "name": "python",
   "nbconvert_exporter": "python",
   "pygments_lexer": "ipython3",
   "version": "3.5.2"
  }
 },
 "nbformat": 4,
 "nbformat_minor": 0
}
