{
 "cells": [
  {
   "cell_type": "markdown",
   "metadata": {},
   "source": [
    "# Karatsuba Multiplication"
   ]
  },
  {
   "cell_type": "code",
   "execution_count": 217,
   "metadata": {
    "collapsed": false
   },
   "outputs": [],
   "source": [
    "def karatsuba(x,y):\n",
    "    \"\"\"Function to multiply 2 numbers in a more efficient manner than the grade school algorithm\"\"\"\n",
    "    if len(str(x)) == 1 or len(str(y)) == 1:\n",
    "        return x*y\n",
    "    else:\n",
    "        n = max(len(str(x)),len(str(y)))\n",
    "        nby2 = n / 2\n",
    "\n",
    "        a = x / 10**(nby2)\n",
    "        b = x % 10**(nby2)\n",
    "        c = y / 10**(nby2)\n",
    "        d = y % 10**(nby2)\n",
    "\n",
    "        ac = karatsuba(a,c)\n",
    "        bd = karatsuba(b,d)\n",
    "        ad_plus_bc = karatsuba(a+b,c+d) - ac - bd\n",
    "\n",
    "        # this little trick, writing n as 2*nby2 takes care of both even and odd n\n",
    "        prod = ac * 10**(2*nby2) + (ad_plus_bc * 10**nby2) + bd\n",
    "\n",
    "        return prod"
   ]
  },
  {
   "cell_type": "code",
   "execution_count": 234,
   "metadata": {
    "collapsed": false
   },
   "outputs": [
    {
     "data": {
      "text/plain": [
       "1000010"
      ]
     },
     "execution_count": 234,
     "metadata": {},
     "output_type": "execute_result"
    }
   ],
   "source": [
    "karatsuba(100001,10)"
   ]
  }
 ],
 "metadata": {
  "kernelspec": {
   "display_name": "Python [Root]",
   "language": "python",
   "name": "Python [Root]"
  },
  "language_info": {
   "codemirror_mode": {
    "name": "ipython",
    "version": 3
   },
   "file_extension": ".py",
   "mimetype": "text/x-python",
   "name": "python",
   "nbconvert_exporter": "python",
   "pygments_lexer": "ipython3",
   "version": "3.5.2"
  }
 },
 "nbformat": 4,
 "nbformat_minor": 0
}
