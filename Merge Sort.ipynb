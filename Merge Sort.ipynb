{
 "cells": [
  {
   "cell_type": "markdown",
   "metadata": {},
   "source": [
    "# Merge Sort"
   ]
  },
  {
   "cell_type": "code",
   "execution_count": 60,
   "metadata": {
    "collapsed": false
   },
   "outputs": [],
   "source": [
    "def merge_sort(array):\n",
    "    \"\"\"Fast Algorithm for Sorting a List\"\"\"\n",
    "    \n",
    "    if len(array) == 1:\n",
    "        return array\n",
    "    \n",
    "    else:\n",
    "        length = len(array)\n",
    "        array_a = array[0:length/2]\n",
    "        array_b = array[length/2:length]\n",
    "\n",
    "        array_a = merge_sort(array_a)\n",
    "        array_b = merge_sort(array_b)\n",
    "\n",
    "        return merge(array_a, array_b)\n",
    "       \n",
    "        \n",
    "def merge(array_a, array_b):\n",
    "    \"\"\"Process for assembling sub-arrays back together once they have been parsed into singular elements\"\"\"\n",
    "    \n",
    "    array_c = []\n",
    "    \n",
    "    while len(array_a) > 0 and len(array_b) > 0:\n",
    "        if array_a[0] > array_b[0]:\n",
    "            array_c.append(array_b[0])\n",
    "            array_b.remove(array_b[0])\n",
    "        else:\n",
    "            array_c.append(array_a[0])\n",
    "            array_a.remove(array_a[0])\n",
    "            \n",
    "    while len(array_a) > 0:\n",
    "        array_c.append(array_a[0])\n",
    "        array_a.remove(array_a[0])\n",
    "        \n",
    "    while len(array_b) > 0:\n",
    "        array_c.append(array_b[0])\n",
    "        array_b.remove(array_b[0])\n",
    "    \n",
    "    return array_c"
   ]
  },
  {
   "cell_type": "code",
   "execution_count": 57,
   "metadata": {
    "collapsed": false
   },
   "outputs": [],
   "source": [
    "list_test = [0,1,3,1,8,1,4,5,6,7,1,3,1,3,4,0,-1,10**2,9,10,9,50,6]"
   ]
  },
  {
   "cell_type": "code",
   "execution_count": 58,
   "metadata": {
    "collapsed": false
   },
   "outputs": [
    {
     "data": {
      "text/plain": [
       "[-1, 0, 0, 1, 1, 1, 1, 1, 3, 3, 3, 4, 4, 5, 6, 6, 7, 8, 9, 9, 10, 50, 100]"
      ]
     },
     "execution_count": 58,
     "metadata": {},
     "output_type": "execute_result"
    }
   ],
   "source": [
    "merge_sort(list_test)"
   ]
  },
  {
   "cell_type": "code",
   "execution_count": 16,
   "metadata": {
    "collapsed": true
   },
   "outputs": [],
   "source": []
  },
  {
   "cell_type": "code",
   "execution_count": null,
   "metadata": {
    "collapsed": false
   },
   "outputs": [],
   "source": []
  },
  {
   "cell_type": "code",
   "execution_count": null,
   "metadata": {
    "collapsed": true
   },
   "outputs": [],
   "source": []
  }
 ],
 "metadata": {
  "kernelspec": {
   "display_name": "Python [Root]",
   "language": "python",
   "name": "Python [Root]"
  },
  "language_info": {
   "codemirror_mode": {
    "name": "ipython",
    "version": 3
   },
   "file_extension": ".py",
   "mimetype": "text/x-python",
   "name": "python",
   "nbconvert_exporter": "python",
   "pygments_lexer": "ipython3",
   "version": "3.5.2"
  }
 },
 "nbformat": 4,
 "nbformat_minor": 0
}
